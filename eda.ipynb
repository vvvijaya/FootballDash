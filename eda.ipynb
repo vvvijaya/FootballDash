{
 "cells": [
  {
   "cell_type": "code",
   "execution_count": 1,
   "metadata": {},
   "outputs": [],
   "source": [
    "import nfl_data_py as nfl, pandas as pd, os, plotly.express as pe, duckdb as db"
   ]
  },
  {
   "cell_type": "code",
   "execution_count": 7,
   "metadata": {},
   "outputs": [
    {
     "name": "stdout",
     "output_type": "stream",
     "text": [
      "2024 done.\n",
      "Downcasting floats.\n"
     ]
    },
    {
     "data": {
      "text/html": [
       "<div>\n",
       "<style scoped>\n",
       "    .dataframe tbody tr th:only-of-type {\n",
       "        vertical-align: middle;\n",
       "    }\n",
       "\n",
       "    .dataframe tbody tr th {\n",
       "        vertical-align: top;\n",
       "    }\n",
       "\n",
       "    .dataframe thead th {\n",
       "        text-align: right;\n",
       "    }\n",
       "</style>\n",
       "<table border=\"1\" class=\"dataframe\">\n",
       "  <thead>\n",
       "    <tr style=\"text-align: right;\">\n",
       "      <th></th>\n",
       "      <th>play_id</th>\n",
       "      <th>game_id</th>\n",
       "      <th>old_game_id</th>\n",
       "      <th>home_team</th>\n",
       "      <th>away_team</th>\n",
       "      <th>season_type</th>\n",
       "      <th>week</th>\n",
       "      <th>posteam</th>\n",
       "      <th>posteam_type</th>\n",
       "      <th>defteam</th>\n",
       "      <th>...</th>\n",
       "      <th>out_of_bounds</th>\n",
       "      <th>home_opening_kickoff</th>\n",
       "      <th>qb_epa</th>\n",
       "      <th>xyac_epa</th>\n",
       "      <th>xyac_mean_yardage</th>\n",
       "      <th>xyac_median_yardage</th>\n",
       "      <th>xyac_success</th>\n",
       "      <th>xyac_fd</th>\n",
       "      <th>xpass</th>\n",
       "      <th>pass_oe</th>\n",
       "    </tr>\n",
       "  </thead>\n",
       "  <tbody>\n",
       "    <tr>\n",
       "      <th>0</th>\n",
       "      <td>1.0</td>\n",
       "      <td>2024_01_ARI_BUF</td>\n",
       "      <td>2024090801</td>\n",
       "      <td>BUF</td>\n",
       "      <td>ARI</td>\n",
       "      <td>REG</td>\n",
       "      <td>1</td>\n",
       "      <td>None</td>\n",
       "      <td>None</td>\n",
       "      <td>None</td>\n",
       "      <td>...</td>\n",
       "      <td>0.0</td>\n",
       "      <td>0.0</td>\n",
       "      <td>-0.000000</td>\n",
       "      <td>NaN</td>\n",
       "      <td>NaN</td>\n",
       "      <td>NaN</td>\n",
       "      <td>NaN</td>\n",
       "      <td>NaN</td>\n",
       "      <td>NaN</td>\n",
       "      <td>NaN</td>\n",
       "    </tr>\n",
       "    <tr>\n",
       "      <th>1</th>\n",
       "      <td>40.0</td>\n",
       "      <td>2024_01_ARI_BUF</td>\n",
       "      <td>2024090801</td>\n",
       "      <td>BUF</td>\n",
       "      <td>ARI</td>\n",
       "      <td>REG</td>\n",
       "      <td>1</td>\n",
       "      <td>ARI</td>\n",
       "      <td>away</td>\n",
       "      <td>BUF</td>\n",
       "      <td>...</td>\n",
       "      <td>0.0</td>\n",
       "      <td>0.0</td>\n",
       "      <td>0.257819</td>\n",
       "      <td>NaN</td>\n",
       "      <td>NaN</td>\n",
       "      <td>NaN</td>\n",
       "      <td>NaN</td>\n",
       "      <td>NaN</td>\n",
       "      <td>NaN</td>\n",
       "      <td>NaN</td>\n",
       "    </tr>\n",
       "    <tr>\n",
       "      <th>2</th>\n",
       "      <td>61.0</td>\n",
       "      <td>2024_01_ARI_BUF</td>\n",
       "      <td>2024090801</td>\n",
       "      <td>BUF</td>\n",
       "      <td>ARI</td>\n",
       "      <td>REG</td>\n",
       "      <td>1</td>\n",
       "      <td>ARI</td>\n",
       "      <td>away</td>\n",
       "      <td>BUF</td>\n",
       "      <td>...</td>\n",
       "      <td>0.0</td>\n",
       "      <td>0.0</td>\n",
       "      <td>-0.200602</td>\n",
       "      <td>NaN</td>\n",
       "      <td>NaN</td>\n",
       "      <td>NaN</td>\n",
       "      <td>NaN</td>\n",
       "      <td>NaN</td>\n",
       "      <td>0.456761</td>\n",
       "      <td>-45.676102</td>\n",
       "    </tr>\n",
       "    <tr>\n",
       "      <th>3</th>\n",
       "      <td>83.0</td>\n",
       "      <td>2024_01_ARI_BUF</td>\n",
       "      <td>2024090801</td>\n",
       "      <td>BUF</td>\n",
       "      <td>ARI</td>\n",
       "      <td>REG</td>\n",
       "      <td>1</td>\n",
       "      <td>ARI</td>\n",
       "      <td>away</td>\n",
       "      <td>BUF</td>\n",
       "      <td>...</td>\n",
       "      <td>0.0</td>\n",
       "      <td>0.0</td>\n",
       "      <td>2.028874</td>\n",
       "      <td>1.345418</td>\n",
       "      <td>9.321221</td>\n",
       "      <td>8.0</td>\n",
       "      <td>0.509778</td>\n",
       "      <td>0.363807</td>\n",
       "      <td>0.576656</td>\n",
       "      <td>42.334431</td>\n",
       "    </tr>\n",
       "    <tr>\n",
       "      <th>4</th>\n",
       "      <td>108.0</td>\n",
       "      <td>2024_01_ARI_BUF</td>\n",
       "      <td>2024090801</td>\n",
       "      <td>BUF</td>\n",
       "      <td>ARI</td>\n",
       "      <td>REG</td>\n",
       "      <td>1</td>\n",
       "      <td>ARI</td>\n",
       "      <td>away</td>\n",
       "      <td>BUF</td>\n",
       "      <td>...</td>\n",
       "      <td>0.0</td>\n",
       "      <td>0.0</td>\n",
       "      <td>0.754242</td>\n",
       "      <td>0.882798</td>\n",
       "      <td>5.783560</td>\n",
       "      <td>4.0</td>\n",
       "      <td>0.668478</td>\n",
       "      <td>0.255140</td>\n",
       "      <td>0.426443</td>\n",
       "      <td>57.355690</td>\n",
       "    </tr>\n",
       "    <tr>\n",
       "      <th>...</th>\n",
       "      <td>...</td>\n",
       "      <td>...</td>\n",
       "      <td>...</td>\n",
       "      <td>...</td>\n",
       "      <td>...</td>\n",
       "      <td>...</td>\n",
       "      <td>...</td>\n",
       "      <td>...</td>\n",
       "      <td>...</td>\n",
       "      <td>...</td>\n",
       "      <td>...</td>\n",
       "      <td>...</td>\n",
       "      <td>...</td>\n",
       "      <td>...</td>\n",
       "      <td>...</td>\n",
       "      <td>...</td>\n",
       "      <td>...</td>\n",
       "      <td>...</td>\n",
       "      <td>...</td>\n",
       "      <td>...</td>\n",
       "      <td>...</td>\n",
       "    </tr>\n",
       "    <tr>\n",
       "      <th>47269</th>\n",
       "      <td>4492.0</td>\n",
       "      <td>2024_18_WAS_DAL</td>\n",
       "      <td>2025010503</td>\n",
       "      <td>DAL</td>\n",
       "      <td>WAS</td>\n",
       "      <td>REG</td>\n",
       "      <td>18</td>\n",
       "      <td>None</td>\n",
       "      <td>None</td>\n",
       "      <td>None</td>\n",
       "      <td>...</td>\n",
       "      <td>0.0</td>\n",
       "      <td>0.0</td>\n",
       "      <td>-0.000000</td>\n",
       "      <td>NaN</td>\n",
       "      <td>NaN</td>\n",
       "      <td>NaN</td>\n",
       "      <td>NaN</td>\n",
       "      <td>NaN</td>\n",
       "      <td>NaN</td>\n",
       "      <td>NaN</td>\n",
       "    </tr>\n",
       "    <tr>\n",
       "      <th>47270</th>\n",
       "      <td>4480.0</td>\n",
       "      <td>2024_18_WAS_DAL</td>\n",
       "      <td>2025010503</td>\n",
       "      <td>DAL</td>\n",
       "      <td>WAS</td>\n",
       "      <td>REG</td>\n",
       "      <td>18</td>\n",
       "      <td>WAS</td>\n",
       "      <td>away</td>\n",
       "      <td>DAL</td>\n",
       "      <td>...</td>\n",
       "      <td>0.0</td>\n",
       "      <td>0.0</td>\n",
       "      <td>3.690094</td>\n",
       "      <td>NaN</td>\n",
       "      <td>NaN</td>\n",
       "      <td>NaN</td>\n",
       "      <td>NaN</td>\n",
       "      <td>NaN</td>\n",
       "      <td>0.961091</td>\n",
       "      <td>3.890944</td>\n",
       "    </tr>\n",
       "    <tr>\n",
       "      <th>47271</th>\n",
       "      <td>4513.0</td>\n",
       "      <td>2024_18_WAS_DAL</td>\n",
       "      <td>2025010503</td>\n",
       "      <td>DAL</td>\n",
       "      <td>WAS</td>\n",
       "      <td>REG</td>\n",
       "      <td>18</td>\n",
       "      <td>WAS</td>\n",
       "      <td>away</td>\n",
       "      <td>DAL</td>\n",
       "      <td>...</td>\n",
       "      <td>0.0</td>\n",
       "      <td>0.0</td>\n",
       "      <td>0.068571</td>\n",
       "      <td>NaN</td>\n",
       "      <td>NaN</td>\n",
       "      <td>NaN</td>\n",
       "      <td>NaN</td>\n",
       "      <td>NaN</td>\n",
       "      <td>NaN</td>\n",
       "      <td>NaN</td>\n",
       "    </tr>\n",
       "    <tr>\n",
       "      <th>47272</th>\n",
       "      <td>4528.0</td>\n",
       "      <td>2024_18_WAS_DAL</td>\n",
       "      <td>2025010503</td>\n",
       "      <td>DAL</td>\n",
       "      <td>WAS</td>\n",
       "      <td>REG</td>\n",
       "      <td>18</td>\n",
       "      <td>DAL</td>\n",
       "      <td>home</td>\n",
       "      <td>WAS</td>\n",
       "      <td>...</td>\n",
       "      <td>1.0</td>\n",
       "      <td>0.0</td>\n",
       "      <td>-0.021433</td>\n",
       "      <td>NaN</td>\n",
       "      <td>NaN</td>\n",
       "      <td>NaN</td>\n",
       "      <td>NaN</td>\n",
       "      <td>NaN</td>\n",
       "      <td>NaN</td>\n",
       "      <td>NaN</td>\n",
       "    </tr>\n",
       "    <tr>\n",
       "      <th>47273</th>\n",
       "      <td>4556.0</td>\n",
       "      <td>2024_18_WAS_DAL</td>\n",
       "      <td>2025010503</td>\n",
       "      <td>DAL</td>\n",
       "      <td>WAS</td>\n",
       "      <td>REG</td>\n",
       "      <td>18</td>\n",
       "      <td>DAL</td>\n",
       "      <td>home</td>\n",
       "      <td>WAS</td>\n",
       "      <td>...</td>\n",
       "      <td>0.0</td>\n",
       "      <td>0.0</td>\n",
       "      <td>NaN</td>\n",
       "      <td>NaN</td>\n",
       "      <td>NaN</td>\n",
       "      <td>NaN</td>\n",
       "      <td>NaN</td>\n",
       "      <td>NaN</td>\n",
       "      <td>NaN</td>\n",
       "      <td>NaN</td>\n",
       "    </tr>\n",
       "  </tbody>\n",
       "</table>\n",
       "<p>47274 rows × 372 columns</p>\n",
       "</div>"
      ],
      "text/plain": [
       "       play_id          game_id old_game_id home_team away_team season_type  \\\n",
       "0          1.0  2024_01_ARI_BUF  2024090801       BUF       ARI         REG   \n",
       "1         40.0  2024_01_ARI_BUF  2024090801       BUF       ARI         REG   \n",
       "2         61.0  2024_01_ARI_BUF  2024090801       BUF       ARI         REG   \n",
       "3         83.0  2024_01_ARI_BUF  2024090801       BUF       ARI         REG   \n",
       "4        108.0  2024_01_ARI_BUF  2024090801       BUF       ARI         REG   \n",
       "...        ...              ...         ...       ...       ...         ...   \n",
       "47269   4492.0  2024_18_WAS_DAL  2025010503       DAL       WAS         REG   \n",
       "47270   4480.0  2024_18_WAS_DAL  2025010503       DAL       WAS         REG   \n",
       "47271   4513.0  2024_18_WAS_DAL  2025010503       DAL       WAS         REG   \n",
       "47272   4528.0  2024_18_WAS_DAL  2025010503       DAL       WAS         REG   \n",
       "47273   4556.0  2024_18_WAS_DAL  2025010503       DAL       WAS         REG   \n",
       "\n",
       "       week posteam posteam_type defteam  ... out_of_bounds  \\\n",
       "0         1    None         None    None  ...           0.0   \n",
       "1         1     ARI         away     BUF  ...           0.0   \n",
       "2         1     ARI         away     BUF  ...           0.0   \n",
       "3         1     ARI         away     BUF  ...           0.0   \n",
       "4         1     ARI         away     BUF  ...           0.0   \n",
       "...     ...     ...          ...     ...  ...           ...   \n",
       "47269    18    None         None    None  ...           0.0   \n",
       "47270    18     WAS         away     DAL  ...           0.0   \n",
       "47271    18     WAS         away     DAL  ...           0.0   \n",
       "47272    18     DAL         home     WAS  ...           1.0   \n",
       "47273    18     DAL         home     WAS  ...           0.0   \n",
       "\n",
       "       home_opening_kickoff    qb_epa  xyac_epa  xyac_mean_yardage  \\\n",
       "0                       0.0 -0.000000       NaN                NaN   \n",
       "1                       0.0  0.257819       NaN                NaN   \n",
       "2                       0.0 -0.200602       NaN                NaN   \n",
       "3                       0.0  2.028874  1.345418           9.321221   \n",
       "4                       0.0  0.754242  0.882798           5.783560   \n",
       "...                     ...       ...       ...                ...   \n",
       "47269                   0.0 -0.000000       NaN                NaN   \n",
       "47270                   0.0  3.690094       NaN                NaN   \n",
       "47271                   0.0  0.068571       NaN                NaN   \n",
       "47272                   0.0 -0.021433       NaN                NaN   \n",
       "47273                   0.0       NaN       NaN                NaN   \n",
       "\n",
       "       xyac_median_yardage xyac_success   xyac_fd     xpass    pass_oe  \n",
       "0                      NaN          NaN       NaN       NaN        NaN  \n",
       "1                      NaN          NaN       NaN       NaN        NaN  \n",
       "2                      NaN          NaN       NaN  0.456761 -45.676102  \n",
       "3                      8.0     0.509778  0.363807  0.576656  42.334431  \n",
       "4                      4.0     0.668478  0.255140  0.426443  57.355690  \n",
       "...                    ...          ...       ...       ...        ...  \n",
       "47269                  NaN          NaN       NaN       NaN        NaN  \n",
       "47270                  NaN          NaN       NaN  0.961091   3.890944  \n",
       "47271                  NaN          NaN       NaN       NaN        NaN  \n",
       "47272                  NaN          NaN       NaN       NaN        NaN  \n",
       "47273                  NaN          NaN       NaN       NaN        NaN  \n",
       "\n",
       "[47274 rows x 372 columns]"
      ]
     },
     "execution_count": 7,
     "metadata": {},
     "output_type": "execute_result"
    }
   ],
   "source": [
    "#nfl.import_pbp_data([2024])"
   ]
  },
  {
   "cell_type": "code",
   "execution_count": 9,
   "metadata": {},
   "outputs": [],
   "source": [
    "# data = pd.read_parquet(\"2024_pbp_uptoweek14.parquet\")\n",
    "# data.head()"
   ]
  },
  {
   "cell_type": "code",
   "execution_count": 2,
   "metadata": {},
   "outputs": [
    {
     "data": {
      "text/html": [
       "<div>\n",
       "<style scoped>\n",
       "    .dataframe tbody tr th:only-of-type {\n",
       "        vertical-align: middle;\n",
       "    }\n",
       "\n",
       "    .dataframe tbody tr th {\n",
       "        vertical-align: top;\n",
       "    }\n",
       "\n",
       "    .dataframe thead th {\n",
       "        text-align: right;\n",
       "    }\n",
       "</style>\n",
       "<table border=\"1\" class=\"dataframe\">\n",
       "  <thead>\n",
       "    <tr style=\"text-align: right;\">\n",
       "      <th></th>\n",
       "      <th>play_id</th>\n",
       "      <th>game_id</th>\n",
       "      <th>old_game_id</th>\n",
       "      <th>home_team</th>\n",
       "      <th>away_team</th>\n",
       "      <th>season_type</th>\n",
       "      <th>week</th>\n",
       "      <th>posteam</th>\n",
       "      <th>posteam_type</th>\n",
       "      <th>defteam</th>\n",
       "      <th>...</th>\n",
       "      <th>IsTwoPointConversion</th>\n",
       "      <th>IsTwoPointConversionSuccessful</th>\n",
       "      <th>RushDirection</th>\n",
       "      <th>YardLineFixed</th>\n",
       "      <th>YardLineDirection</th>\n",
       "      <th>IsPenaltyAccepted</th>\n",
       "      <th>PenaltyTeam</th>\n",
       "      <th>IsNoPlay</th>\n",
       "      <th>PenaltyType</th>\n",
       "      <th>PenaltyYards</th>\n",
       "    </tr>\n",
       "  </thead>\n",
       "  <tbody>\n",
       "    <tr>\n",
       "      <th>0</th>\n",
       "      <td>1.0</td>\n",
       "      <td>2021_01_ARI_TEN</td>\n",
       "      <td>2021091207</td>\n",
       "      <td>TEN</td>\n",
       "      <td>ARI</td>\n",
       "      <td>REG</td>\n",
       "      <td>1.0</td>\n",
       "      <td>None</td>\n",
       "      <td>None</td>\n",
       "      <td>None</td>\n",
       "      <td>...</td>\n",
       "      <td>NaN</td>\n",
       "      <td>NaN</td>\n",
       "      <td>NaN</td>\n",
       "      <td>NaN</td>\n",
       "      <td>NaN</td>\n",
       "      <td>NaN</td>\n",
       "      <td>NaN</td>\n",
       "      <td>NaN</td>\n",
       "      <td>NaN</td>\n",
       "      <td>NaN</td>\n",
       "    </tr>\n",
       "    <tr>\n",
       "      <th>1</th>\n",
       "      <td>40.0</td>\n",
       "      <td>2021_01_ARI_TEN</td>\n",
       "      <td>2021091207</td>\n",
       "      <td>TEN</td>\n",
       "      <td>ARI</td>\n",
       "      <td>REG</td>\n",
       "      <td>1.0</td>\n",
       "      <td>TEN</td>\n",
       "      <td>home</td>\n",
       "      <td>ARI</td>\n",
       "      <td>...</td>\n",
       "      <td>NaN</td>\n",
       "      <td>NaN</td>\n",
       "      <td>NaN</td>\n",
       "      <td>NaN</td>\n",
       "      <td>NaN</td>\n",
       "      <td>NaN</td>\n",
       "      <td>NaN</td>\n",
       "      <td>NaN</td>\n",
       "      <td>NaN</td>\n",
       "      <td>NaN</td>\n",
       "    </tr>\n",
       "    <tr>\n",
       "      <th>2</th>\n",
       "      <td>55.0</td>\n",
       "      <td>2021_01_ARI_TEN</td>\n",
       "      <td>2021091207</td>\n",
       "      <td>TEN</td>\n",
       "      <td>ARI</td>\n",
       "      <td>REG</td>\n",
       "      <td>1.0</td>\n",
       "      <td>TEN</td>\n",
       "      <td>home</td>\n",
       "      <td>ARI</td>\n",
       "      <td>...</td>\n",
       "      <td>NaN</td>\n",
       "      <td>NaN</td>\n",
       "      <td>NaN</td>\n",
       "      <td>NaN</td>\n",
       "      <td>NaN</td>\n",
       "      <td>NaN</td>\n",
       "      <td>NaN</td>\n",
       "      <td>NaN</td>\n",
       "      <td>NaN</td>\n",
       "      <td>NaN</td>\n",
       "    </tr>\n",
       "    <tr>\n",
       "      <th>3</th>\n",
       "      <td>76.0</td>\n",
       "      <td>2021_01_ARI_TEN</td>\n",
       "      <td>2021091207</td>\n",
       "      <td>TEN</td>\n",
       "      <td>ARI</td>\n",
       "      <td>REG</td>\n",
       "      <td>1.0</td>\n",
       "      <td>TEN</td>\n",
       "      <td>home</td>\n",
       "      <td>ARI</td>\n",
       "      <td>...</td>\n",
       "      <td>NaN</td>\n",
       "      <td>NaN</td>\n",
       "      <td>NaN</td>\n",
       "      <td>NaN</td>\n",
       "      <td>NaN</td>\n",
       "      <td>NaN</td>\n",
       "      <td>NaN</td>\n",
       "      <td>NaN</td>\n",
       "      <td>NaN</td>\n",
       "      <td>NaN</td>\n",
       "    </tr>\n",
       "    <tr>\n",
       "      <th>4</th>\n",
       "      <td>100.0</td>\n",
       "      <td>2021_01_ARI_TEN</td>\n",
       "      <td>2021091207</td>\n",
       "      <td>TEN</td>\n",
       "      <td>ARI</td>\n",
       "      <td>REG</td>\n",
       "      <td>1.0</td>\n",
       "      <td>TEN</td>\n",
       "      <td>home</td>\n",
       "      <td>ARI</td>\n",
       "      <td>...</td>\n",
       "      <td>NaN</td>\n",
       "      <td>NaN</td>\n",
       "      <td>NaN</td>\n",
       "      <td>NaN</td>\n",
       "      <td>NaN</td>\n",
       "      <td>NaN</td>\n",
       "      <td>NaN</td>\n",
       "      <td>NaN</td>\n",
       "      <td>NaN</td>\n",
       "      <td>NaN</td>\n",
       "    </tr>\n",
       "    <tr>\n",
       "      <th>...</th>\n",
       "      <td>...</td>\n",
       "      <td>...</td>\n",
       "      <td>...</td>\n",
       "      <td>...</td>\n",
       "      <td>...</td>\n",
       "      <td>...</td>\n",
       "      <td>...</td>\n",
       "      <td>...</td>\n",
       "      <td>...</td>\n",
       "      <td>...</td>\n",
       "      <td>...</td>\n",
       "      <td>...</td>\n",
       "      <td>...</td>\n",
       "      <td>...</td>\n",
       "      <td>...</td>\n",
       "      <td>...</td>\n",
       "      <td>...</td>\n",
       "      <td>...</td>\n",
       "      <td>...</td>\n",
       "      <td>...</td>\n",
       "      <td>...</td>\n",
       "    </tr>\n",
       "    <tr>\n",
       "      <th>36175</th>\n",
       "      <td>4350.0</td>\n",
       "      <td>2024_14_SEA_ARI</td>\n",
       "      <td>2024120807</td>\n",
       "      <td>ARI</td>\n",
       "      <td>SEA</td>\n",
       "      <td>REG</td>\n",
       "      <td>14.0</td>\n",
       "      <td>ARI</td>\n",
       "      <td>home</td>\n",
       "      <td>SEA</td>\n",
       "      <td>...</td>\n",
       "      <td>NaN</td>\n",
       "      <td>NaN</td>\n",
       "      <td>NaN</td>\n",
       "      <td>NaN</td>\n",
       "      <td>NaN</td>\n",
       "      <td>NaN</td>\n",
       "      <td>NaN</td>\n",
       "      <td>NaN</td>\n",
       "      <td>NaN</td>\n",
       "      <td>NaN</td>\n",
       "    </tr>\n",
       "    <tr>\n",
       "      <th>36176</th>\n",
       "      <td>4384.0</td>\n",
       "      <td>2024_14_SEA_ARI</td>\n",
       "      <td>2024120807</td>\n",
       "      <td>ARI</td>\n",
       "      <td>SEA</td>\n",
       "      <td>REG</td>\n",
       "      <td>14.0</td>\n",
       "      <td>ARI</td>\n",
       "      <td>home</td>\n",
       "      <td>SEA</td>\n",
       "      <td>...</td>\n",
       "      <td>NaN</td>\n",
       "      <td>NaN</td>\n",
       "      <td>NaN</td>\n",
       "      <td>NaN</td>\n",
       "      <td>NaN</td>\n",
       "      <td>NaN</td>\n",
       "      <td>NaN</td>\n",
       "      <td>NaN</td>\n",
       "      <td>NaN</td>\n",
       "      <td>NaN</td>\n",
       "    </tr>\n",
       "    <tr>\n",
       "      <th>36177</th>\n",
       "      <td>4419.0</td>\n",
       "      <td>2024_14_SEA_ARI</td>\n",
       "      <td>2024120807</td>\n",
       "      <td>ARI</td>\n",
       "      <td>SEA</td>\n",
       "      <td>REG</td>\n",
       "      <td>14.0</td>\n",
       "      <td>ARI</td>\n",
       "      <td>home</td>\n",
       "      <td>SEA</td>\n",
       "      <td>...</td>\n",
       "      <td>NaN</td>\n",
       "      <td>NaN</td>\n",
       "      <td>NaN</td>\n",
       "      <td>NaN</td>\n",
       "      <td>NaN</td>\n",
       "      <td>NaN</td>\n",
       "      <td>NaN</td>\n",
       "      <td>NaN</td>\n",
       "      <td>NaN</td>\n",
       "      <td>NaN</td>\n",
       "    </tr>\n",
       "    <tr>\n",
       "      <th>36178</th>\n",
       "      <td>4442.0</td>\n",
       "      <td>2024_14_SEA_ARI</td>\n",
       "      <td>2024120807</td>\n",
       "      <td>ARI</td>\n",
       "      <td>SEA</td>\n",
       "      <td>REG</td>\n",
       "      <td>14.0</td>\n",
       "      <td>ARI</td>\n",
       "      <td>home</td>\n",
       "      <td>SEA</td>\n",
       "      <td>...</td>\n",
       "      <td>NaN</td>\n",
       "      <td>NaN</td>\n",
       "      <td>NaN</td>\n",
       "      <td>NaN</td>\n",
       "      <td>NaN</td>\n",
       "      <td>NaN</td>\n",
       "      <td>NaN</td>\n",
       "      <td>NaN</td>\n",
       "      <td>NaN</td>\n",
       "      <td>NaN</td>\n",
       "    </tr>\n",
       "    <tr>\n",
       "      <th>36179</th>\n",
       "      <td>4462.0</td>\n",
       "      <td>2024_14_SEA_ARI</td>\n",
       "      <td>2024120807</td>\n",
       "      <td>ARI</td>\n",
       "      <td>SEA</td>\n",
       "      <td>REG</td>\n",
       "      <td>14.0</td>\n",
       "      <td>ARI</td>\n",
       "      <td>home</td>\n",
       "      <td>SEA</td>\n",
       "      <td>...</td>\n",
       "      <td>NaN</td>\n",
       "      <td>NaN</td>\n",
       "      <td>NaN</td>\n",
       "      <td>NaN</td>\n",
       "      <td>NaN</td>\n",
       "      <td>NaN</td>\n",
       "      <td>NaN</td>\n",
       "      <td>NaN</td>\n",
       "      <td>NaN</td>\n",
       "      <td>NaN</td>\n",
       "    </tr>\n",
       "  </tbody>\n",
       "</table>\n",
       "<p>188326 rows × 429 columns</p>\n",
       "</div>"
      ],
      "text/plain": [
       "       play_id          game_id old_game_id home_team away_team season_type  \\\n",
       "0          1.0  2021_01_ARI_TEN  2021091207       TEN       ARI         REG   \n",
       "1         40.0  2021_01_ARI_TEN  2021091207       TEN       ARI         REG   \n",
       "2         55.0  2021_01_ARI_TEN  2021091207       TEN       ARI         REG   \n",
       "3         76.0  2021_01_ARI_TEN  2021091207       TEN       ARI         REG   \n",
       "4        100.0  2021_01_ARI_TEN  2021091207       TEN       ARI         REG   \n",
       "...        ...              ...         ...       ...       ...         ...   \n",
       "36175   4350.0  2024_14_SEA_ARI  2024120807       ARI       SEA         REG   \n",
       "36176   4384.0  2024_14_SEA_ARI  2024120807       ARI       SEA         REG   \n",
       "36177   4419.0  2024_14_SEA_ARI  2024120807       ARI       SEA         REG   \n",
       "36178   4442.0  2024_14_SEA_ARI  2024120807       ARI       SEA         REG   \n",
       "36179   4462.0  2024_14_SEA_ARI  2024120807       ARI       SEA         REG   \n",
       "\n",
       "       week posteam posteam_type defteam  ... IsTwoPointConversion  \\\n",
       "0       1.0    None         None    None  ...                  NaN   \n",
       "1       1.0     TEN         home     ARI  ...                  NaN   \n",
       "2       1.0     TEN         home     ARI  ...                  NaN   \n",
       "3       1.0     TEN         home     ARI  ...                  NaN   \n",
       "4       1.0     TEN         home     ARI  ...                  NaN   \n",
       "...     ...     ...          ...     ...  ...                  ...   \n",
       "36175  14.0     ARI         home     SEA  ...                  NaN   \n",
       "36176  14.0     ARI         home     SEA  ...                  NaN   \n",
       "36177  14.0     ARI         home     SEA  ...                  NaN   \n",
       "36178  14.0     ARI         home     SEA  ...                  NaN   \n",
       "36179  14.0     ARI         home     SEA  ...                  NaN   \n",
       "\n",
       "       IsTwoPointConversionSuccessful RushDirection  YardLineFixed  \\\n",
       "0                                 NaN           NaN            NaN   \n",
       "1                                 NaN           NaN            NaN   \n",
       "2                                 NaN           NaN            NaN   \n",
       "3                                 NaN           NaN            NaN   \n",
       "4                                 NaN           NaN            NaN   \n",
       "...                               ...           ...            ...   \n",
       "36175                             NaN           NaN            NaN   \n",
       "36176                             NaN           NaN            NaN   \n",
       "36177                             NaN           NaN            NaN   \n",
       "36178                             NaN           NaN            NaN   \n",
       "36179                             NaN           NaN            NaN   \n",
       "\n",
       "       YardLineDirection  IsPenaltyAccepted PenaltyTeam  IsNoPlay  \\\n",
       "0                    NaN                NaN         NaN       NaN   \n",
       "1                    NaN                NaN         NaN       NaN   \n",
       "2                    NaN                NaN         NaN       NaN   \n",
       "3                    NaN                NaN         NaN       NaN   \n",
       "4                    NaN                NaN         NaN       NaN   \n",
       "...                  ...                ...         ...       ...   \n",
       "36175                NaN                NaN         NaN       NaN   \n",
       "36176                NaN                NaN         NaN       NaN   \n",
       "36177                NaN                NaN         NaN       NaN   \n",
       "36178                NaN                NaN         NaN       NaN   \n",
       "36179                NaN                NaN         NaN       NaN   \n",
       "\n",
       "       PenaltyType  PenaltyYards  \n",
       "0              NaN           NaN  \n",
       "1              NaN           NaN  \n",
       "2              NaN           NaN  \n",
       "3              NaN           NaN  \n",
       "4              NaN           NaN  \n",
       "...            ...           ...  \n",
       "36175          NaN           NaN  \n",
       "36176          NaN           NaN  \n",
       "36177          NaN           NaN  \n",
       "36178          NaN           NaN  \n",
       "36179          NaN           NaN  \n",
       "\n",
       "[188326 rows x 429 columns]"
      ]
     },
     "execution_count": 2,
     "metadata": {},
     "output_type": "execute_result"
    }
   ],
   "source": [
    "data2021 = pd.read_parquet(\"2021_pbp.parquet\")\n",
    "data2022 = pd.read_parquet(\"2022_pbp.parquet\")\n",
    "data2023 = pd.read_csv(\"pbp-2023.csv\")\n",
    "data2024 = pd.read_parquet(\"2024_pbp_uptoweek14.parquet\")\n",
    "data = pd.concat([data2021, data2022, data2023, data2024])\n",
    "data"
   ]
  },
  {
   "cell_type": "code",
   "execution_count": 6,
   "metadata": {},
   "outputs": [
    {
     "name": "stdout",
     "output_type": "stream",
     "text": [
      "<class 'pandas.core.frame.DataFrame'>\n",
      "RangeIndex: 36180 entries, 0 to 36179\n",
      "Columns: 372 entries, play_id to pass_oe\n",
      "dtypes: float32(199), int32(7), int64(1), object(165)\n",
      "memory usage: 74.3+ MB\n"
     ]
    }
   ],
   "source": [
    "fileted_cols = data2022.columns.intersection(data2024.columns)\n",
    "data2024 = data2024[fileted_cols]\n",
    "data2024.info()"
   ]
  },
  {
   "cell_type": "code",
   "execution_count": 3,
   "metadata": {},
   "outputs": [],
   "source": [
    "#db.sql(\"DESCRIBE select * from '2024_pbp.parquet'\").df().to_json(orient='records')"
   ]
  },
  {
   "cell_type": "code",
   "execution_count": 17,
   "metadata": {},
   "outputs": [
    {
     "data": {
      "text/plain": [
       "┌─────────┬──────────────────────────────────┐\n",
       "│ posteam │ successful_two_point_conversions │\n",
       "│ varchar │              int64               │\n",
       "├─────────┼──────────────────────────────────┤\n",
       "│ PHI     │                               12 │\n",
       "│ JAX     │                               11 │\n",
       "│ LAC     │                               10 │\n",
       "│ DET     │                                9 │\n",
       "│ ARI     │                                9 │\n",
       "│ CLE     │                                9 │\n",
       "│ NYG     │                                8 │\n",
       "│ CHI     │                                7 │\n",
       "│ NE      │                                7 │\n",
       "│ DAL     │                                7 │\n",
       "│  ·      │                                · │\n",
       "│  ·      │                                · │\n",
       "│  ·      │                                · │\n",
       "│ MIN     │                                4 │\n",
       "│ IND     │                                4 │\n",
       "│ NO      │                                4 │\n",
       "│ TEN     │                                3 │\n",
       "│ HOU     │                                3 │\n",
       "│ SF      │                                3 │\n",
       "│ LA      │                                2 │\n",
       "│ DEN     │                                2 │\n",
       "│ LV      │                                2 │\n",
       "│ SEA     │                                1 │\n",
       "├─────────┴──────────────────────────────────┤\n",
       "│ 32 rows (20 shown)               2 columns │\n",
       "└────────────────────────────────────────────┘"
      ]
     },
     "execution_count": 17,
     "metadata": {},
     "output_type": "execute_result"
    }
   ],
   "source": [
    "db.sql(\"\"\"SELECT posteam, COUNT(*) AS successful_two_point_conversions\n",
    "FROM data \n",
    "WHERE two_point_conv_result = 'success'\n",
    "group by posteam order by 2 desc\n",
    "\"\"\")"
   ]
  },
  {
   "cell_type": "code",
   "execution_count": 7,
   "metadata": {},
   "outputs": [
    {
     "data": {
      "application/vnd.plotly.v1+json": {
       "config": {
        "plotlyServerURL": "https://plot.ly"
       },
       "data": [
        {
         "alignmentgroup": "True",
         "hovertemplate": "play_type=passes<br>week=%{x}<br>count=%{y}<extra></extra>",
         "legendgroup": "passes",
         "marker": {
          "color": "#636efa",
          "pattern": {
           "shape": ""
          }
         },
         "name": "passes",
         "offsetgroup": "passes",
         "orientation": "v",
         "showlegend": true,
         "textposition": "auto",
         "type": "bar",
         "x": [
          1,
          2,
          3,
          4,
          5,
          6,
          7,
          8,
          9
         ],
         "xaxis": "x",
         "y": [
          1057,
          1044,
          1146,
          1088,
          1073,
          983,
          981,
          1128,
          1065
         ],
         "yaxis": "y"
        },
        {
         "alignmentgroup": "True",
         "hovertemplate": "play_type=runs<br>week=%{x}<br>count=%{y}<extra></extra>",
         "legendgroup": "runs",
         "marker": {
          "color": "#EF553B",
          "pattern": {
           "shape": ""
          }
         },
         "name": "runs",
         "offsetgroup": "runs",
         "orientation": "v",
         "showlegend": true,
         "textposition": "auto",
         "type": "bar",
         "x": [
          1,
          2,
          3,
          4,
          5,
          6,
          7,
          8,
          9
         ],
         "xaxis": "x",
         "y": [
          857,
          868,
          795,
          850,
          723,
          746,
          819,
          846,
          826
         ],
         "yaxis": "y"
        }
       ],
       "layout": {
        "barmode": "group",
        "legend": {
         "title": {
          "text": "play_type"
         },
         "tracegroupgap": 0
        },
        "template": {
         "data": {
          "bar": [
           {
            "error_x": {
             "color": "#2a3f5f"
            },
            "error_y": {
             "color": "#2a3f5f"
            },
            "marker": {
             "line": {
              "color": "#E5ECF6",
              "width": 0.5
             },
             "pattern": {
              "fillmode": "overlay",
              "size": 10,
              "solidity": 0.2
             }
            },
            "type": "bar"
           }
          ],
          "barpolar": [
           {
            "marker": {
             "line": {
              "color": "#E5ECF6",
              "width": 0.5
             },
             "pattern": {
              "fillmode": "overlay",
              "size": 10,
              "solidity": 0.2
             }
            },
            "type": "barpolar"
           }
          ],
          "carpet": [
           {
            "aaxis": {
             "endlinecolor": "#2a3f5f",
             "gridcolor": "white",
             "linecolor": "white",
             "minorgridcolor": "white",
             "startlinecolor": "#2a3f5f"
            },
            "baxis": {
             "endlinecolor": "#2a3f5f",
             "gridcolor": "white",
             "linecolor": "white",
             "minorgridcolor": "white",
             "startlinecolor": "#2a3f5f"
            },
            "type": "carpet"
           }
          ],
          "choropleth": [
           {
            "colorbar": {
             "outlinewidth": 0,
             "ticks": ""
            },
            "type": "choropleth"
           }
          ],
          "contour": [
           {
            "colorbar": {
             "outlinewidth": 0,
             "ticks": ""
            },
            "colorscale": [
             [
              0,
              "#0d0887"
             ],
             [
              0.1111111111111111,
              "#46039f"
             ],
             [
              0.2222222222222222,
              "#7201a8"
             ],
             [
              0.3333333333333333,
              "#9c179e"
             ],
             [
              0.4444444444444444,
              "#bd3786"
             ],
             [
              0.5555555555555556,
              "#d8576b"
             ],
             [
              0.6666666666666666,
              "#ed7953"
             ],
             [
              0.7777777777777778,
              "#fb9f3a"
             ],
             [
              0.8888888888888888,
              "#fdca26"
             ],
             [
              1,
              "#f0f921"
             ]
            ],
            "type": "contour"
           }
          ],
          "contourcarpet": [
           {
            "colorbar": {
             "outlinewidth": 0,
             "ticks": ""
            },
            "type": "contourcarpet"
           }
          ],
          "heatmap": [
           {
            "colorbar": {
             "outlinewidth": 0,
             "ticks": ""
            },
            "colorscale": [
             [
              0,
              "#0d0887"
             ],
             [
              0.1111111111111111,
              "#46039f"
             ],
             [
              0.2222222222222222,
              "#7201a8"
             ],
             [
              0.3333333333333333,
              "#9c179e"
             ],
             [
              0.4444444444444444,
              "#bd3786"
             ],
             [
              0.5555555555555556,
              "#d8576b"
             ],
             [
              0.6666666666666666,
              "#ed7953"
             ],
             [
              0.7777777777777778,
              "#fb9f3a"
             ],
             [
              0.8888888888888888,
              "#fdca26"
             ],
             [
              1,
              "#f0f921"
             ]
            ],
            "type": "heatmap"
           }
          ],
          "heatmapgl": [
           {
            "colorbar": {
             "outlinewidth": 0,
             "ticks": ""
            },
            "colorscale": [
             [
              0,
              "#0d0887"
             ],
             [
              0.1111111111111111,
              "#46039f"
             ],
             [
              0.2222222222222222,
              "#7201a8"
             ],
             [
              0.3333333333333333,
              "#9c179e"
             ],
             [
              0.4444444444444444,
              "#bd3786"
             ],
             [
              0.5555555555555556,
              "#d8576b"
             ],
             [
              0.6666666666666666,
              "#ed7953"
             ],
             [
              0.7777777777777778,
              "#fb9f3a"
             ],
             [
              0.8888888888888888,
              "#fdca26"
             ],
             [
              1,
              "#f0f921"
             ]
            ],
            "type": "heatmapgl"
           }
          ],
          "histogram": [
           {
            "marker": {
             "pattern": {
              "fillmode": "overlay",
              "size": 10,
              "solidity": 0.2
             }
            },
            "type": "histogram"
           }
          ],
          "histogram2d": [
           {
            "colorbar": {
             "outlinewidth": 0,
             "ticks": ""
            },
            "colorscale": [
             [
              0,
              "#0d0887"
             ],
             [
              0.1111111111111111,
              "#46039f"
             ],
             [
              0.2222222222222222,
              "#7201a8"
             ],
             [
              0.3333333333333333,
              "#9c179e"
             ],
             [
              0.4444444444444444,
              "#bd3786"
             ],
             [
              0.5555555555555556,
              "#d8576b"
             ],
             [
              0.6666666666666666,
              "#ed7953"
             ],
             [
              0.7777777777777778,
              "#fb9f3a"
             ],
             [
              0.8888888888888888,
              "#fdca26"
             ],
             [
              1,
              "#f0f921"
             ]
            ],
            "type": "histogram2d"
           }
          ],
          "histogram2dcontour": [
           {
            "colorbar": {
             "outlinewidth": 0,
             "ticks": ""
            },
            "colorscale": [
             [
              0,
              "#0d0887"
             ],
             [
              0.1111111111111111,
              "#46039f"
             ],
             [
              0.2222222222222222,
              "#7201a8"
             ],
             [
              0.3333333333333333,
              "#9c179e"
             ],
             [
              0.4444444444444444,
              "#bd3786"
             ],
             [
              0.5555555555555556,
              "#d8576b"
             ],
             [
              0.6666666666666666,
              "#ed7953"
             ],
             [
              0.7777777777777778,
              "#fb9f3a"
             ],
             [
              0.8888888888888888,
              "#fdca26"
             ],
             [
              1,
              "#f0f921"
             ]
            ],
            "type": "histogram2dcontour"
           }
          ],
          "mesh3d": [
           {
            "colorbar": {
             "outlinewidth": 0,
             "ticks": ""
            },
            "type": "mesh3d"
           }
          ],
          "parcoords": [
           {
            "line": {
             "colorbar": {
              "outlinewidth": 0,
              "ticks": ""
             }
            },
            "type": "parcoords"
           }
          ],
          "pie": [
           {
            "automargin": true,
            "type": "pie"
           }
          ],
          "scatter": [
           {
            "fillpattern": {
             "fillmode": "overlay",
             "size": 10,
             "solidity": 0.2
            },
            "type": "scatter"
           }
          ],
          "scatter3d": [
           {
            "line": {
             "colorbar": {
              "outlinewidth": 0,
              "ticks": ""
             }
            },
            "marker": {
             "colorbar": {
              "outlinewidth": 0,
              "ticks": ""
             }
            },
            "type": "scatter3d"
           }
          ],
          "scattercarpet": [
           {
            "marker": {
             "colorbar": {
              "outlinewidth": 0,
              "ticks": ""
             }
            },
            "type": "scattercarpet"
           }
          ],
          "scattergeo": [
           {
            "marker": {
             "colorbar": {
              "outlinewidth": 0,
              "ticks": ""
             }
            },
            "type": "scattergeo"
           }
          ],
          "scattergl": [
           {
            "marker": {
             "colorbar": {
              "outlinewidth": 0,
              "ticks": ""
             }
            },
            "type": "scattergl"
           }
          ],
          "scattermapbox": [
           {
            "marker": {
             "colorbar": {
              "outlinewidth": 0,
              "ticks": ""
             }
            },
            "type": "scattermapbox"
           }
          ],
          "scatterpolar": [
           {
            "marker": {
             "colorbar": {
              "outlinewidth": 0,
              "ticks": ""
             }
            },
            "type": "scatterpolar"
           }
          ],
          "scatterpolargl": [
           {
            "marker": {
             "colorbar": {
              "outlinewidth": 0,
              "ticks": ""
             }
            },
            "type": "scatterpolargl"
           }
          ],
          "scatterternary": [
           {
            "marker": {
             "colorbar": {
              "outlinewidth": 0,
              "ticks": ""
             }
            },
            "type": "scatterternary"
           }
          ],
          "surface": [
           {
            "colorbar": {
             "outlinewidth": 0,
             "ticks": ""
            },
            "colorscale": [
             [
              0,
              "#0d0887"
             ],
             [
              0.1111111111111111,
              "#46039f"
             ],
             [
              0.2222222222222222,
              "#7201a8"
             ],
             [
              0.3333333333333333,
              "#9c179e"
             ],
             [
              0.4444444444444444,
              "#bd3786"
             ],
             [
              0.5555555555555556,
              "#d8576b"
             ],
             [
              0.6666666666666666,
              "#ed7953"
             ],
             [
              0.7777777777777778,
              "#fb9f3a"
             ],
             [
              0.8888888888888888,
              "#fdca26"
             ],
             [
              1,
              "#f0f921"
             ]
            ],
            "type": "surface"
           }
          ],
          "table": [
           {
            "cells": {
             "fill": {
              "color": "#EBF0F8"
             },
             "line": {
              "color": "white"
             }
            },
            "header": {
             "fill": {
              "color": "#C8D4E3"
             },
             "line": {
              "color": "white"
             }
            },
            "type": "table"
           }
          ]
         },
         "layout": {
          "annotationdefaults": {
           "arrowcolor": "#2a3f5f",
           "arrowhead": 0,
           "arrowwidth": 1
          },
          "autotypenumbers": "strict",
          "coloraxis": {
           "colorbar": {
            "outlinewidth": 0,
            "ticks": ""
           }
          },
          "colorscale": {
           "diverging": [
            [
             0,
             "#8e0152"
            ],
            [
             0.1,
             "#c51b7d"
            ],
            [
             0.2,
             "#de77ae"
            ],
            [
             0.3,
             "#f1b6da"
            ],
            [
             0.4,
             "#fde0ef"
            ],
            [
             0.5,
             "#f7f7f7"
            ],
            [
             0.6,
             "#e6f5d0"
            ],
            [
             0.7,
             "#b8e186"
            ],
            [
             0.8,
             "#7fbc41"
            ],
            [
             0.9,
             "#4d9221"
            ],
            [
             1,
             "#276419"
            ]
           ],
           "sequential": [
            [
             0,
             "#0d0887"
            ],
            [
             0.1111111111111111,
             "#46039f"
            ],
            [
             0.2222222222222222,
             "#7201a8"
            ],
            [
             0.3333333333333333,
             "#9c179e"
            ],
            [
             0.4444444444444444,
             "#bd3786"
            ],
            [
             0.5555555555555556,
             "#d8576b"
            ],
            [
             0.6666666666666666,
             "#ed7953"
            ],
            [
             0.7777777777777778,
             "#fb9f3a"
            ],
            [
             0.8888888888888888,
             "#fdca26"
            ],
            [
             1,
             "#f0f921"
            ]
           ],
           "sequentialminus": [
            [
             0,
             "#0d0887"
            ],
            [
             0.1111111111111111,
             "#46039f"
            ],
            [
             0.2222222222222222,
             "#7201a8"
            ],
            [
             0.3333333333333333,
             "#9c179e"
            ],
            [
             0.4444444444444444,
             "#bd3786"
            ],
            [
             0.5555555555555556,
             "#d8576b"
            ],
            [
             0.6666666666666666,
             "#ed7953"
            ],
            [
             0.7777777777777778,
             "#fb9f3a"
            ],
            [
             0.8888888888888888,
             "#fdca26"
            ],
            [
             1,
             "#f0f921"
            ]
           ]
          },
          "colorway": [
           "#636efa",
           "#EF553B",
           "#00cc96",
           "#ab63fa",
           "#FFA15A",
           "#19d3f3",
           "#FF6692",
           "#B6E880",
           "#FF97FF",
           "#FECB52"
          ],
          "font": {
           "color": "#2a3f5f"
          },
          "geo": {
           "bgcolor": "white",
           "lakecolor": "white",
           "landcolor": "#E5ECF6",
           "showlakes": true,
           "showland": true,
           "subunitcolor": "white"
          },
          "hoverlabel": {
           "align": "left"
          },
          "hovermode": "closest",
          "mapbox": {
           "style": "light"
          },
          "paper_bgcolor": "white",
          "plot_bgcolor": "#E5ECF6",
          "polar": {
           "angularaxis": {
            "gridcolor": "white",
            "linecolor": "white",
            "ticks": ""
           },
           "bgcolor": "#E5ECF6",
           "radialaxis": {
            "gridcolor": "white",
            "linecolor": "white",
            "ticks": ""
           }
          },
          "scene": {
           "xaxis": {
            "backgroundcolor": "#E5ECF6",
            "gridcolor": "white",
            "gridwidth": 2,
            "linecolor": "white",
            "showbackground": true,
            "ticks": "",
            "zerolinecolor": "white"
           },
           "yaxis": {
            "backgroundcolor": "#E5ECF6",
            "gridcolor": "white",
            "gridwidth": 2,
            "linecolor": "white",
            "showbackground": true,
            "ticks": "",
            "zerolinecolor": "white"
           },
           "zaxis": {
            "backgroundcolor": "#E5ECF6",
            "gridcolor": "white",
            "gridwidth": 2,
            "linecolor": "white",
            "showbackground": true,
            "ticks": "",
            "zerolinecolor": "white"
           }
          },
          "shapedefaults": {
           "line": {
            "color": "#2a3f5f"
           }
          },
          "ternary": {
           "aaxis": {
            "gridcolor": "white",
            "linecolor": "white",
            "ticks": ""
           },
           "baxis": {
            "gridcolor": "white",
            "linecolor": "white",
            "ticks": ""
           },
           "bgcolor": "#E5ECF6",
           "caxis": {
            "gridcolor": "white",
            "linecolor": "white",
            "ticks": ""
           }
          },
          "title": {
           "x": 0.05
          },
          "xaxis": {
           "automargin": true,
           "gridcolor": "white",
           "linecolor": "white",
           "ticks": "",
           "title": {
            "standoff": 15
           },
           "zerolinecolor": "white",
           "zerolinewidth": 2
          },
          "yaxis": {
           "automargin": true,
           "gridcolor": "white",
           "linecolor": "white",
           "ticks": "",
           "title": {
            "standoff": 15
           },
           "zerolinecolor": "white",
           "zerolinewidth": 2
          }
         }
        },
        "title": {
         "text": "Number of Passes and Runs for Each Week"
        },
        "xaxis": {
         "anchor": "y",
         "domain": [
          0,
          1
         ],
         "title": {
          "text": "week"
         }
        },
        "yaxis": {
         "anchor": "x",
         "domain": [
          0,
          1
         ],
         "title": {
          "text": "count"
         }
        }
       }
      }
     },
     "metadata": {},
     "output_type": "display_data"
    }
   ],
   "source": [
    "import plotly.express as px\n",
    "import pandas as pd\n",
    "\n",
    "# Assuming you have a function db.sql() that returns a DataFrame\n",
    "df = db.sql(\"\"\"\n",
    "SELECT week, \n",
    "       SUM(CASE WHEN play_type = 'pass' THEN 1 ELSE 0 END) AS passes,\n",
    "       SUM(CASE WHEN play_type = 'run' THEN 1 ELSE 0 END) AS runs\n",
    "FROM data\n",
    "GROUP BY week\n",
    "ORDER BY week\n",
    "\"\"\").df()\n",
    "\n",
    "# Melt the DataFrame to have a long format suitable for plotly.express\n",
    "df_melted = df.melt(id_vars='week', value_vars=['passes', 'runs'], \n",
    "                    var_name='play_type', value_name='count')\n",
    "\n",
    "# Create the bar chart\n",
    "fig = px.bar(df_melted, x='week', y='count', color='play_type', \n",
    "             barmode='group', title='Number of Passes and Runs for Each Week')\n",
    "\n",
    "# Show the bar chart\n",
    "fig.show()"
   ]
  },
  {
   "cell_type": "code",
   "execution_count": 20,
   "metadata": {},
   "outputs": [
    {
     "data": {
      "application/vnd.plotly.v1+json": {
       "config": {
        "plotlyServerURL": "https://plot.ly"
       },
       "data": [
        {
         "alignmentgroup": "True",
         "hovertemplate": "play_type=passes<br>year=2021.0<br>week=%{x}<br>count=%{y}<extra></extra>",
         "legendgroup": "passes",
         "marker": {
          "color": "#636efa",
          "pattern": {
           "shape": ""
          }
         },
         "name": "passes",
         "offsetgroup": "passes",
         "orientation": "v",
         "showlegend": true,
         "textposition": "auto",
         "type": "bar",
         "x": [
          1,
          2,
          3,
          4,
          5,
          6,
          7,
          8,
          9,
          10,
          11,
          12,
          13,
          14,
          15,
          16,
          17
         ],
         "xaxis": "x",
         "y": [
          1253,
          1132,
          1206,
          1181,
          1189,
          1086,
          978,
          1144,
          1029,
          1024,
          1062,
          1064,
          1023,
          1095,
          1122,
          1154,
          1102
         ],
         "yaxis": "y"
        },
        {
         "alignmentgroup": "True",
         "hovertemplate": "play_type=passes<br>year=2022.0<br>week=%{x}<br>count=%{y}<extra></extra>",
         "legendgroup": "passes",
         "marker": {
          "color": "#636efa",
          "pattern": {
           "shape": ""
          }
         },
         "name": "passes",
         "offsetgroup": "passes",
         "orientation": "v",
         "showlegend": false,
         "textposition": "auto",
         "type": "bar",
         "x": [
          1,
          2,
          3,
          4,
          5,
          6,
          7,
          8,
          9,
          10,
          11,
          12,
          13,
          14,
          15,
          16,
          17
         ],
         "xaxis": "x2",
         "y": [
          1220,
          1173,
          1236,
          1095,
          1160,
          1039,
          987,
          1040,
          914,
          979,
          954,
          1142,
          1096,
          987,
          1135,
          1126,
          1032
         ],
         "yaxis": "y2"
        },
        {
         "alignmentgroup": "True",
         "hovertemplate": "play_type=passes<br>year=2024.0<br>week=%{x}<br>count=%{y}<extra></extra>",
         "legendgroup": "passes",
         "marker": {
          "color": "#636efa",
          "pattern": {
           "shape": ""
          }
         },
         "name": "passes",
         "offsetgroup": "passes",
         "orientation": "v",
         "showlegend": false,
         "textposition": "auto",
         "type": "bar",
         "x": [
          1,
          2,
          3,
          4,
          5,
          6,
          7,
          8,
          9,
          10,
          11,
          12,
          13,
          14
         ],
         "xaxis": "x3",
         "y": [
          1057,
          1044,
          1146,
          1088,
          1073,
          983,
          981,
          1128,
          1066,
          963,
          1021,
          958,
          1184,
          924
         ],
         "yaxis": "y3"
        },
        {
         "alignmentgroup": "True",
         "hovertemplate": "play_type=runs<br>year=2021.0<br>week=%{x}<br>count=%{y}<extra></extra>",
         "legendgroup": "runs",
         "marker": {
          "color": "#EF553B",
          "pattern": {
           "shape": ""
          }
         },
         "name": "runs",
         "offsetgroup": "runs",
         "orientation": "v",
         "showlegend": true,
         "textposition": "auto",
         "type": "bar",
         "x": [
          1,
          2,
          3,
          4,
          5,
          6,
          7,
          8,
          9,
          10,
          11,
          12,
          13,
          14,
          15,
          16,
          17
         ],
         "xaxis": "x",
         "y": [
          801,
          810,
          796,
          853,
          839,
          702,
          650,
          759,
          730,
          707,
          782,
          808,
          733,
          723,
          878,
          829,
          862
         ],
         "yaxis": "y"
        },
        {
         "alignmentgroup": "True",
         "hovertemplate": "play_type=runs<br>year=2022.0<br>week=%{x}<br>count=%{y}<extra></extra>",
         "legendgroup": "runs",
         "marker": {
          "color": "#EF553B",
          "pattern": {
           "shape": ""
          }
         },
         "name": "runs",
         "offsetgroup": "runs",
         "orientation": "v",
         "showlegend": false,
         "textposition": "auto",
         "type": "bar",
         "x": [
          1,
          2,
          3,
          4,
          5,
          6,
          7,
          8,
          9,
          10,
          11,
          12,
          13,
          14,
          15,
          16,
          17
         ],
         "xaxis": "x2",
         "y": [
          812,
          799,
          790,
          877,
          828,
          714,
          720,
          798,
          699,
          792,
          757,
          876,
          792,
          653,
          895,
          863,
          820
         ],
         "yaxis": "y2"
        },
        {
         "alignmentgroup": "True",
         "hovertemplate": "play_type=runs<br>year=2024.0<br>week=%{x}<br>count=%{y}<extra></extra>",
         "legendgroup": "runs",
         "marker": {
          "color": "#EF553B",
          "pattern": {
           "shape": ""
          }
         },
         "name": "runs",
         "offsetgroup": "runs",
         "orientation": "v",
         "showlegend": false,
         "textposition": "auto",
         "type": "bar",
         "x": [
          1,
          2,
          3,
          4,
          5,
          6,
          7,
          8,
          9,
          10,
          11,
          12,
          13,
          14
         ],
         "xaxis": "x3",
         "y": [
          857,
          868,
          795,
          850,
          723,
          746,
          819,
          846,
          825,
          748,
          717,
          652,
          812,
          687
         ],
         "yaxis": "y3"
        }
       ],
       "layout": {
        "annotations": [
         {
          "font": {},
          "showarrow": false,
          "text": "year=2021.0",
          "x": 0.15999999999999998,
          "xanchor": "center",
          "xref": "paper",
          "y": 1,
          "yanchor": "bottom",
          "yref": "paper"
         },
         {
          "font": {},
          "showarrow": false,
          "text": "year=2022.0",
          "x": 0.49999999999999994,
          "xanchor": "center",
          "xref": "paper",
          "y": 1,
          "yanchor": "bottom",
          "yref": "paper"
         },
         {
          "font": {},
          "showarrow": false,
          "text": "year=2024.0",
          "x": 0.8399999999999999,
          "xanchor": "center",
          "xref": "paper",
          "y": 1,
          "yanchor": "bottom",
          "yref": "paper"
         }
        ],
        "barmode": "group",
        "legend": {
         "title": {
          "text": "play_type"
         },
         "tracegroupgap": 0
        },
        "template": {
         "data": {
          "bar": [
           {
            "error_x": {
             "color": "#2a3f5f"
            },
            "error_y": {
             "color": "#2a3f5f"
            },
            "marker": {
             "line": {
              "color": "#E5ECF6",
              "width": 0.5
             },
             "pattern": {
              "fillmode": "overlay",
              "size": 10,
              "solidity": 0.2
             }
            },
            "type": "bar"
           }
          ],
          "barpolar": [
           {
            "marker": {
             "line": {
              "color": "#E5ECF6",
              "width": 0.5
             },
             "pattern": {
              "fillmode": "overlay",
              "size": 10,
              "solidity": 0.2
             }
            },
            "type": "barpolar"
           }
          ],
          "carpet": [
           {
            "aaxis": {
             "endlinecolor": "#2a3f5f",
             "gridcolor": "white",
             "linecolor": "white",
             "minorgridcolor": "white",
             "startlinecolor": "#2a3f5f"
            },
            "baxis": {
             "endlinecolor": "#2a3f5f",
             "gridcolor": "white",
             "linecolor": "white",
             "minorgridcolor": "white",
             "startlinecolor": "#2a3f5f"
            },
            "type": "carpet"
           }
          ],
          "choropleth": [
           {
            "colorbar": {
             "outlinewidth": 0,
             "ticks": ""
            },
            "type": "choropleth"
           }
          ],
          "contour": [
           {
            "colorbar": {
             "outlinewidth": 0,
             "ticks": ""
            },
            "colorscale": [
             [
              0,
              "#0d0887"
             ],
             [
              0.1111111111111111,
              "#46039f"
             ],
             [
              0.2222222222222222,
              "#7201a8"
             ],
             [
              0.3333333333333333,
              "#9c179e"
             ],
             [
              0.4444444444444444,
              "#bd3786"
             ],
             [
              0.5555555555555556,
              "#d8576b"
             ],
             [
              0.6666666666666666,
              "#ed7953"
             ],
             [
              0.7777777777777778,
              "#fb9f3a"
             ],
             [
              0.8888888888888888,
              "#fdca26"
             ],
             [
              1,
              "#f0f921"
             ]
            ],
            "type": "contour"
           }
          ],
          "contourcarpet": [
           {
            "colorbar": {
             "outlinewidth": 0,
             "ticks": ""
            },
            "type": "contourcarpet"
           }
          ],
          "heatmap": [
           {
            "colorbar": {
             "outlinewidth": 0,
             "ticks": ""
            },
            "colorscale": [
             [
              0,
              "#0d0887"
             ],
             [
              0.1111111111111111,
              "#46039f"
             ],
             [
              0.2222222222222222,
              "#7201a8"
             ],
             [
              0.3333333333333333,
              "#9c179e"
             ],
             [
              0.4444444444444444,
              "#bd3786"
             ],
             [
              0.5555555555555556,
              "#d8576b"
             ],
             [
              0.6666666666666666,
              "#ed7953"
             ],
             [
              0.7777777777777778,
              "#fb9f3a"
             ],
             [
              0.8888888888888888,
              "#fdca26"
             ],
             [
              1,
              "#f0f921"
             ]
            ],
            "type": "heatmap"
           }
          ],
          "heatmapgl": [
           {
            "colorbar": {
             "outlinewidth": 0,
             "ticks": ""
            },
            "colorscale": [
             [
              0,
              "#0d0887"
             ],
             [
              0.1111111111111111,
              "#46039f"
             ],
             [
              0.2222222222222222,
              "#7201a8"
             ],
             [
              0.3333333333333333,
              "#9c179e"
             ],
             [
              0.4444444444444444,
              "#bd3786"
             ],
             [
              0.5555555555555556,
              "#d8576b"
             ],
             [
              0.6666666666666666,
              "#ed7953"
             ],
             [
              0.7777777777777778,
              "#fb9f3a"
             ],
             [
              0.8888888888888888,
              "#fdca26"
             ],
             [
              1,
              "#f0f921"
             ]
            ],
            "type": "heatmapgl"
           }
          ],
          "histogram": [
           {
            "marker": {
             "pattern": {
              "fillmode": "overlay",
              "size": 10,
              "solidity": 0.2
             }
            },
            "type": "histogram"
           }
          ],
          "histogram2d": [
           {
            "colorbar": {
             "outlinewidth": 0,
             "ticks": ""
            },
            "colorscale": [
             [
              0,
              "#0d0887"
             ],
             [
              0.1111111111111111,
              "#46039f"
             ],
             [
              0.2222222222222222,
              "#7201a8"
             ],
             [
              0.3333333333333333,
              "#9c179e"
             ],
             [
              0.4444444444444444,
              "#bd3786"
             ],
             [
              0.5555555555555556,
              "#d8576b"
             ],
             [
              0.6666666666666666,
              "#ed7953"
             ],
             [
              0.7777777777777778,
              "#fb9f3a"
             ],
             [
              0.8888888888888888,
              "#fdca26"
             ],
             [
              1,
              "#f0f921"
             ]
            ],
            "type": "histogram2d"
           }
          ],
          "histogram2dcontour": [
           {
            "colorbar": {
             "outlinewidth": 0,
             "ticks": ""
            },
            "colorscale": [
             [
              0,
              "#0d0887"
             ],
             [
              0.1111111111111111,
              "#46039f"
             ],
             [
              0.2222222222222222,
              "#7201a8"
             ],
             [
              0.3333333333333333,
              "#9c179e"
             ],
             [
              0.4444444444444444,
              "#bd3786"
             ],
             [
              0.5555555555555556,
              "#d8576b"
             ],
             [
              0.6666666666666666,
              "#ed7953"
             ],
             [
              0.7777777777777778,
              "#fb9f3a"
             ],
             [
              0.8888888888888888,
              "#fdca26"
             ],
             [
              1,
              "#f0f921"
             ]
            ],
            "type": "histogram2dcontour"
           }
          ],
          "mesh3d": [
           {
            "colorbar": {
             "outlinewidth": 0,
             "ticks": ""
            },
            "type": "mesh3d"
           }
          ],
          "parcoords": [
           {
            "line": {
             "colorbar": {
              "outlinewidth": 0,
              "ticks": ""
             }
            },
            "type": "parcoords"
           }
          ],
          "pie": [
           {
            "automargin": true,
            "type": "pie"
           }
          ],
          "scatter": [
           {
            "fillpattern": {
             "fillmode": "overlay",
             "size": 10,
             "solidity": 0.2
            },
            "type": "scatter"
           }
          ],
          "scatter3d": [
           {
            "line": {
             "colorbar": {
              "outlinewidth": 0,
              "ticks": ""
             }
            },
            "marker": {
             "colorbar": {
              "outlinewidth": 0,
              "ticks": ""
             }
            },
            "type": "scatter3d"
           }
          ],
          "scattercarpet": [
           {
            "marker": {
             "colorbar": {
              "outlinewidth": 0,
              "ticks": ""
             }
            },
            "type": "scattercarpet"
           }
          ],
          "scattergeo": [
           {
            "marker": {
             "colorbar": {
              "outlinewidth": 0,
              "ticks": ""
             }
            },
            "type": "scattergeo"
           }
          ],
          "scattergl": [
           {
            "marker": {
             "colorbar": {
              "outlinewidth": 0,
              "ticks": ""
             }
            },
            "type": "scattergl"
           }
          ],
          "scattermapbox": [
           {
            "marker": {
             "colorbar": {
              "outlinewidth": 0,
              "ticks": ""
             }
            },
            "type": "scattermapbox"
           }
          ],
          "scatterpolar": [
           {
            "marker": {
             "colorbar": {
              "outlinewidth": 0,
              "ticks": ""
             }
            },
            "type": "scatterpolar"
           }
          ],
          "scatterpolargl": [
           {
            "marker": {
             "colorbar": {
              "outlinewidth": 0,
              "ticks": ""
             }
            },
            "type": "scatterpolargl"
           }
          ],
          "scatterternary": [
           {
            "marker": {
             "colorbar": {
              "outlinewidth": 0,
              "ticks": ""
             }
            },
            "type": "scatterternary"
           }
          ],
          "surface": [
           {
            "colorbar": {
             "outlinewidth": 0,
             "ticks": ""
            },
            "colorscale": [
             [
              0,
              "#0d0887"
             ],
             [
              0.1111111111111111,
              "#46039f"
             ],
             [
              0.2222222222222222,
              "#7201a8"
             ],
             [
              0.3333333333333333,
              "#9c179e"
             ],
             [
              0.4444444444444444,
              "#bd3786"
             ],
             [
              0.5555555555555556,
              "#d8576b"
             ],
             [
              0.6666666666666666,
              "#ed7953"
             ],
             [
              0.7777777777777778,
              "#fb9f3a"
             ],
             [
              0.8888888888888888,
              "#fdca26"
             ],
             [
              1,
              "#f0f921"
             ]
            ],
            "type": "surface"
           }
          ],
          "table": [
           {
            "cells": {
             "fill": {
              "color": "#EBF0F8"
             },
             "line": {
              "color": "white"
             }
            },
            "header": {
             "fill": {
              "color": "#C8D4E3"
             },
             "line": {
              "color": "white"
             }
            },
            "type": "table"
           }
          ]
         },
         "layout": {
          "annotationdefaults": {
           "arrowcolor": "#2a3f5f",
           "arrowhead": 0,
           "arrowwidth": 1
          },
          "autotypenumbers": "strict",
          "coloraxis": {
           "colorbar": {
            "outlinewidth": 0,
            "ticks": ""
           }
          },
          "colorscale": {
           "diverging": [
            [
             0,
             "#8e0152"
            ],
            [
             0.1,
             "#c51b7d"
            ],
            [
             0.2,
             "#de77ae"
            ],
            [
             0.3,
             "#f1b6da"
            ],
            [
             0.4,
             "#fde0ef"
            ],
            [
             0.5,
             "#f7f7f7"
            ],
            [
             0.6,
             "#e6f5d0"
            ],
            [
             0.7,
             "#b8e186"
            ],
            [
             0.8,
             "#7fbc41"
            ],
            [
             0.9,
             "#4d9221"
            ],
            [
             1,
             "#276419"
            ]
           ],
           "sequential": [
            [
             0,
             "#0d0887"
            ],
            [
             0.1111111111111111,
             "#46039f"
            ],
            [
             0.2222222222222222,
             "#7201a8"
            ],
            [
             0.3333333333333333,
             "#9c179e"
            ],
            [
             0.4444444444444444,
             "#bd3786"
            ],
            [
             0.5555555555555556,
             "#d8576b"
            ],
            [
             0.6666666666666666,
             "#ed7953"
            ],
            [
             0.7777777777777778,
             "#fb9f3a"
            ],
            [
             0.8888888888888888,
             "#fdca26"
            ],
            [
             1,
             "#f0f921"
            ]
           ],
           "sequentialminus": [
            [
             0,
             "#0d0887"
            ],
            [
             0.1111111111111111,
             "#46039f"
            ],
            [
             0.2222222222222222,
             "#7201a8"
            ],
            [
             0.3333333333333333,
             "#9c179e"
            ],
            [
             0.4444444444444444,
             "#bd3786"
            ],
            [
             0.5555555555555556,
             "#d8576b"
            ],
            [
             0.6666666666666666,
             "#ed7953"
            ],
            [
             0.7777777777777778,
             "#fb9f3a"
            ],
            [
             0.8888888888888888,
             "#fdca26"
            ],
            [
             1,
             "#f0f921"
            ]
           ]
          },
          "colorway": [
           "#636efa",
           "#EF553B",
           "#00cc96",
           "#ab63fa",
           "#FFA15A",
           "#19d3f3",
           "#FF6692",
           "#B6E880",
           "#FF97FF",
           "#FECB52"
          ],
          "font": {
           "color": "#2a3f5f"
          },
          "geo": {
           "bgcolor": "white",
           "lakecolor": "white",
           "landcolor": "#E5ECF6",
           "showlakes": true,
           "showland": true,
           "subunitcolor": "white"
          },
          "hoverlabel": {
           "align": "left"
          },
          "hovermode": "closest",
          "mapbox": {
           "style": "light"
          },
          "paper_bgcolor": "white",
          "plot_bgcolor": "#E5ECF6",
          "polar": {
           "angularaxis": {
            "gridcolor": "white",
            "linecolor": "white",
            "ticks": ""
           },
           "bgcolor": "#E5ECF6",
           "radialaxis": {
            "gridcolor": "white",
            "linecolor": "white",
            "ticks": ""
           }
          },
          "scene": {
           "xaxis": {
            "backgroundcolor": "#E5ECF6",
            "gridcolor": "white",
            "gridwidth": 2,
            "linecolor": "white",
            "showbackground": true,
            "ticks": "",
            "zerolinecolor": "white"
           },
           "yaxis": {
            "backgroundcolor": "#E5ECF6",
            "gridcolor": "white",
            "gridwidth": 2,
            "linecolor": "white",
            "showbackground": true,
            "ticks": "",
            "zerolinecolor": "white"
           },
           "zaxis": {
            "backgroundcolor": "#E5ECF6",
            "gridcolor": "white",
            "gridwidth": 2,
            "linecolor": "white",
            "showbackground": true,
            "ticks": "",
            "zerolinecolor": "white"
           }
          },
          "shapedefaults": {
           "line": {
            "color": "#2a3f5f"
           }
          },
          "ternary": {
           "aaxis": {
            "gridcolor": "white",
            "linecolor": "white",
            "ticks": ""
           },
           "baxis": {
            "gridcolor": "white",
            "linecolor": "white",
            "ticks": ""
           },
           "bgcolor": "#E5ECF6",
           "caxis": {
            "gridcolor": "white",
            "linecolor": "white",
            "ticks": ""
           }
          },
          "title": {
           "x": 0.05
          },
          "xaxis": {
           "automargin": true,
           "gridcolor": "white",
           "linecolor": "white",
           "ticks": "",
           "title": {
            "standoff": 15
           },
           "zerolinecolor": "white",
           "zerolinewidth": 2
          },
          "yaxis": {
           "automargin": true,
           "gridcolor": "white",
           "linecolor": "white",
           "ticks": "",
           "title": {
            "standoff": 15
           },
           "zerolinecolor": "white",
           "zerolinewidth": 2
          }
         }
        },
        "title": {
         "text": "Number of Passes and Runs for Each Week by Year"
        },
        "xaxis": {
         "anchor": "y",
         "domain": [
          0,
          0.31999999999999995
         ],
         "title": {
          "text": "week"
         }
        },
        "xaxis2": {
         "anchor": "y2",
         "domain": [
          0.33999999999999997,
          0.6599999999999999
         ],
         "matches": "x",
         "title": {
          "text": "week"
         }
        },
        "xaxis3": {
         "anchor": "y3",
         "domain": [
          0.6799999999999999,
          0.9999999999999999
         ],
         "matches": "x",
         "title": {
          "text": "week"
         }
        },
        "yaxis": {
         "anchor": "x",
         "domain": [
          0,
          1
         ],
         "title": {
          "text": "count"
         }
        },
        "yaxis2": {
         "anchor": "x2",
         "domain": [
          0,
          1
         ],
         "matches": "y",
         "showticklabels": false
        },
        "yaxis3": {
         "anchor": "x3",
         "domain": [
          0,
          1
         ],
         "matches": "y",
         "showticklabels": false
        }
       }
      }
     },
     "metadata": {},
     "output_type": "display_data"
    }
   ],
   "source": [
    "import plotly.express as px\n",
    "import pandas as pd\n",
    "\n",
    "# Assuming you have a function db.sql() that returns a DataFrame\n",
    "df = db.sql(\"\"\"\n",
    "SELECT season AS year,\n",
    "       week, \n",
    "       SUM(CASE WHEN play_type = 'pass' THEN 1 ELSE 0 END) AS passes,\n",
    "       SUM(CASE WHEN play_type = 'run' THEN 1 ELSE 0 END) AS runs\n",
    "FROM data\n",
    "where week<=17\n",
    "GROUP BY season, week\n",
    "ORDER BY season, week\n",
    "\"\"\").df()\n",
    "\n",
    "# Melt the DataFrame to have a long format suitable for plotly.express\n",
    "df_melted = df.melt(id_vars=['year', 'week'], value_vars=['passes', 'runs'], \n",
    "                    var_name='play_type', value_name='count')\n",
    "\n",
    "# Create the bar chart\n",
    "fig = px.bar(df_melted, x='week', y='count', color='play_type', \n",
    "             barmode='group', facet_col='year', title='Number of Passes and Runs for Each Week by Year')\n",
    "\n",
    "# Show the bar chart\n",
    "fig.show()"
   ]
  },
  {
   "cell_type": "code",
   "execution_count": 38,
   "metadata": {},
   "outputs": [
    {
     "data": {
      "text/plain": [
       "array([nan,  0.,  1.], dtype=float32)"
      ]
     },
     "execution_count": 38,
     "metadata": {},
     "output_type": "execute_result"
    }
   ],
   "source": [
    "data2024[[ 'passer_player_name','complete_pass','pass_touchdown']]"
   ]
  },
  {
   "cell_type": "code",
   "execution_count": 46,
   "metadata": {},
   "outputs": [
    {
     "data": {
      "text/plain": [
       "┌─────────────────────┬────────────────┬────────┬───┬───────────────┬────────────────────┬──────────────────────┐\n",
       "│ passer_player_name  │ completed_pass │ passes │ … │ interceptions │ percent_completed  │  int_to_pass_ratio   │\n",
       "│       varchar       │     int128     │ int128 │   │    int128     │       double       │        double        │\n",
       "├─────────────────────┼────────────────┼────────┼───┼───────────────┼────────────────────┼──────────────────────┤\n",
       "│ D.Thompson-Robinson │             11 │     26 │ … │             2 │  42.30769230769231 │  0.07692307692307693 │\n",
       "│ B.Allen             │             17 │     32 │ … │             2 │             53.125 │               0.0625 │\n",
       "│ A.Richardson        │            102 │    225 │ … │             9 │  45.33333333333333 │                 0.04 │\n",
       "│ M.Jones             │             80 │    132 │ … │             5 │  60.60606060606061 │  0.03787878787878788 │\n",
       "│ A.Dalton            │            106 │    168 │ … │             6 │ 63.095238095238095 │  0.03571428571428571 │\n",
       "│ K.Cousins           │            292 │    458 │ … │            15 │  63.75545851528385 │  0.03275109170305677 │\n",
       "│ J.Love              │            206 │    341 │ … │            11 │ 60.410557184750736 │  0.03225806451612903 │\n",
       "│ J.Winston           │            165 │    296 │ … │             9 │  55.74324324324324 │ 0.030405405405405407 │\n",
       "│ M.Rudolph           │             76 │    132 │ … │             4 │  57.57575757575758 │ 0.030303030303030304 │\n",
       "│ G.Minshew           │            203 │    333 │ … │            10 │  60.96096096096096 │  0.03003003003003003 │\n",
       "│     ·               │              · │     ·  │ · │             · │          ·         │           ·          │\n",
       "│     ·               │              · │     ·  │ · │             · │          ·         │           ·          │\n",
       "│     ·               │              · │     ·  │ · │             · │          ·         │           ·          │\n",
       "│ J.Brissett          │             94 │    177 │ … │             1 │  53.10734463276836 │ 0.005649717514124294 │\n",
       "│ J.Herbert           │            234 │    400 │ … │             1 │               58.5 │               0.0025 │\n",
       "│ D.Ridder            │             28 │     51 │ … │             0 │  54.90196078431373 │                  0.0 │\n",
       "│ J.Haener            │             14 │     32 │ … │             0 │              43.75 │                  0.0 │\n",
       "│ S.Thompson          │             21 │     39 │ … │             0 │  53.84615384615385 │                  0.0 │\n",
       "│ M.Mariota           │             19 │     27 │ … │             0 │  70.37037037037037 │                  0.0 │\n",
       "│ T.DeVito            │             21 │     35 │ … │             0 │               60.0 │                  0.0 │\n",
       "│ D.Mills             │              7 │     14 │ … │             0 │               50.0 │                  0.0 │\n",
       "│ M.Willis            │             29 │     44 │ … │             0 │   65.9090909090909 │                  0.0 │\n",
       "│ T.Boyle             │             15 │     26 │ … │             0 │ 57.692307692307686 │                  0.0 │\n",
       "├─────────────────────┴────────────────┴────────┴───┴───────────────┴────────────────────┴──────────────────────┤\n",
       "│ 54 rows (20 shown)                                                                        8 columns (6 shown) │\n",
       "└───────────────────────────────────────────────────────────────────────────────────────────────────────────────┘"
      ]
     },
     "execution_count": 46,
     "metadata": {},
     "output_type": "execute_result"
    }
   ],
   "source": [
    "#SUM(CASE WHEN play_type = 'pass' THEN 1 ELSE 0 END) AS passes,\n",
    "db.sql(\"\"\" with data as (\n",
    "    select passer_player_name\n",
    "       , sum(CASE WHEN complete_pass='1' THEN 1 ELSE 0 END) AS completed_pass\n",
    "       , SUM(CASE WHEN play_type = 'pass' THEN 1 ELSE 0 END) AS passes\n",
    "       , sum(case when pass_touchdown='1' THEN 1 ELSE 0 END) as total_tds \n",
    "       , avg(CASE WHEN play_type = 'pass' AND passing_yards>=0 AND complete_pass='1' THEN passing_yards ELSE 0 END) as yards_per_pass\n",
    "       , sum(CASE WHEN interception='1' THEN 1 ELSE 0 END) as interceptions\n",
    "    from data2024\n",
    "      group by passer_player_name     \n",
    "       )\n",
    "       select *\n",
    "       , (completed_pass/passes)*100 AS percent_completed   \n",
    "       , (interceptions/passes) as int_to_pass_ratio\n",
    "       from data        \n",
    "       WHERE passes > 10 \n",
    "       order by int_to_pass_ratio  desc \n",
    "\"\"\")"
   ]
  },
  {
   "cell_type": "code",
   "execution_count": null,
   "metadata": {},
   "outputs": [],
   "source": [
    "db.sql(\"\"\"       \n",
    "       select defteam\n",
    "       , sum(yards_gained) yards_surrendered\n",
    "       , sum(yards_gained) yards_surrendered\n",
    "       , sum(air_yards) air_yards \n",
    "       , sum(yards_after_catch) yards_after_catch_allowed_total\n",
    "       --, avg(yards_after_catch) yards_after_catch_allowed_avg\n",
    "       , sum(rush_touchdown) rush_touchdowns \n",
    "       , sum(pass_touchdown) pass_touchdown\n",
    "       , sum(sack) sacks\n",
    "       , SUM(interception) interceptions \n",
    "       , sum(fumble_forced) fumble_forced\n",
    "       , count(distinct game_id) games\n",
    "       from data2024    \n",
    "       where defteam in ('DEN','BAL','HOU','MIN','TB','LAC','GB','WAS','PHI','PIT','KC','DET','LA')        \n",
    "       group by defteam \n",
    "       order by air_yards desc               \n",
    "    \"\"\").df()"
   ]
  }
 ],
 "metadata": {
  "kernelspec": {
   "display_name": "base",
   "language": "python",
   "name": "python3"
  },
  "language_info": {
   "codemirror_mode": {
    "name": "ipython",
    "version": 3
   },
   "file_extension": ".py",
   "mimetype": "text/x-python",
   "name": "python",
   "nbconvert_exporter": "python",
   "pygments_lexer": "ipython3",
   "version": "3.10.14"
  }
 },
 "nbformat": 4,
 "nbformat_minor": 2
}
